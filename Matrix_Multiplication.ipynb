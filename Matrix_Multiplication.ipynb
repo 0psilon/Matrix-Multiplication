{
 "cells": [
  {
   "cell_type": "code",
   "execution_count": 2,
   "id": "2773f859",
   "metadata": {},
   "outputs": [
    {
     "name": "stdout",
     "output_type": "stream",
     "text": [
      "1 2\n",
      "4 5\n",
      "\n",
      "2 2\n",
      "7 6\n",
      "5 9\n",
      "\n",
      "53 69\n"
     ]
    }
   ],
   "source": [
    "n, m = [int(i) for i in input().split()] #first matrix dimensions\n",
    "matrix_1 = [[int(i) for i in input().split()] for _ in range(n)] #first matrix initialization\n",
    "\n",
    "print()\n",
    "\n",
    "m, k = [int(i) for i in input().split()] #second matrix dimensions\n",
    "matrix_2 = [[int(i) for i in input().split()] for _ in range(m)] #second matrix initialization\n",
    "matrix = [[0] * k for i in range(n)]\n",
    "\n",
    "print()\n",
    "\n",
    "for i in range(n): #resulting matrix calculation\n",
    "    for v in range(k):\n",
    "        for j in range(m):\n",
    "            matrix[i][v] += matrix_1[i][j] * matrix_2[j][v]\n",
    "        \n",
    "for row in matrix:\n",
    "    print(*row)"
   ]
  }
 ],
 "metadata": {
  "kernelspec": {
   "display_name": "Python 3 (ipykernel)",
   "language": "python",
   "name": "python3"
  },
  "language_info": {
   "codemirror_mode": {
    "name": "ipython",
    "version": 3
   },
   "file_extension": ".py",
   "mimetype": "text/x-python",
   "name": "python",
   "nbconvert_exporter": "python",
   "pygments_lexer": "ipython3",
   "version": "3.8.8"
  }
 },
 "nbformat": 4,
 "nbformat_minor": 5
}
